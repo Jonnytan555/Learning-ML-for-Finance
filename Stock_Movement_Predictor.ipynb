{
  "nbformat": 4,
  "nbformat_minor": 0,
  "metadata": {
    "kernelspec": {
      "display_name": "Python 3",
      "language": "python",
      "name": "python3"
    },
    "language_info": {
      "codemirror_mode": {
        "name": "ipython",
        "version": 3
      },
      "file_extension": ".py",
      "mimetype": "text/x-python",
      "name": "python",
      "nbconvert_exporter": "python",
      "pygments_lexer": "ipython3",
      "version": "3.7.6"
    },
    "colab": {
      "name": "Stock_Movement_Predictor.ipynb",
      "provenance": [],
      "include_colab_link": true
    }
  },
  "cells": [
    {
      "cell_type": "markdown",
      "metadata": {
        "id": "view-in-github",
        "colab_type": "text"
      },
      "source": [
        "<a href=\"https://colab.research.google.com/github/Jonnytan555/ML_for_Finance/blob/main/Stock_Movement_Predictor.ipynb\" target=\"_parent\"><img src=\"https://colab.research.google.com/assets/colab-badge.svg\" alt=\"Open In Colab\"/></a>"
      ]
    },
    {
      "cell_type": "markdown",
      "metadata": {
        "id": "GTK2i7omAiUk"
      },
      "source": [
        "# Stock Predicting"
      ]
    },
    {
      "cell_type": "code",
      "metadata": {
        "id": "pWHk-l0JAiUw"
      },
      "source": [
        "#Import libaries\n",
        "from sklearn.model_selection import train_test_split\n",
        "from sklearn.tree import DecisionTreeClassifier\n",
        "import numpy as np\n",
        "import pandas as pd"
      ],
      "execution_count": null,
      "outputs": []
    },
    {
      "cell_type": "code",
      "metadata": {
        "id": "IFXoCHDRAiUy",
        "outputId": "718efcd2-178e-45f7-ea8a-6a4a4bacb59c"
      },
      "source": [
        "#Read in data\n",
        "fb = pd.read_csv('facebook.csv')\n",
        "fb.head()"
      ],
      "execution_count": null,
      "outputs": [
        {
          "output_type": "execute_result",
          "data": {
            "text/html": [
              "<div>\n",
              "<style scoped>\n",
              "    .dataframe tbody tr th:only-of-type {\n",
              "        vertical-align: middle;\n",
              "    }\n",
              "\n",
              "    .dataframe tbody tr th {\n",
              "        vertical-align: top;\n",
              "    }\n",
              "\n",
              "    .dataframe thead th {\n",
              "        text-align: right;\n",
              "    }\n",
              "</style>\n",
              "<table border=\"1\" class=\"dataframe\">\n",
              "  <thead>\n",
              "    <tr style=\"text-align: right;\">\n",
              "      <th></th>\n",
              "      <th>price.open</th>\n",
              "      <th>price.high</th>\n",
              "      <th>price.low</th>\n",
              "      <th>price.close</th>\n",
              "      <th>volume</th>\n",
              "      <th>price.adjusted</th>\n",
              "      <th>ref.date</th>\n",
              "      <th>ticker</th>\n",
              "      <th>ret.adjusted.prices</th>\n",
              "      <th>ret.closing.prices</th>\n",
              "    </tr>\n",
              "  </thead>\n",
              "  <tbody>\n",
              "    <tr>\n",
              "      <th>0</th>\n",
              "      <td>174.500000</td>\n",
              "      <td>176.220001</td>\n",
              "      <td>172.039993</td>\n",
              "      <td>173.800003</td>\n",
              "      <td>24825500</td>\n",
              "      <td>173.800003</td>\n",
              "      <td>17/08/2018</td>\n",
              "      <td>FB</td>\n",
              "      <td>-0.005152</td>\n",
              "      <td>-0.005152</td>\n",
              "    </tr>\n",
              "    <tr>\n",
              "      <th>1</th>\n",
              "      <td>180.419998</td>\n",
              "      <td>180.500000</td>\n",
              "      <td>174.009995</td>\n",
              "      <td>174.699997</td>\n",
              "      <td>31351800</td>\n",
              "      <td>174.699997</td>\n",
              "      <td>16/08/2018</td>\n",
              "      <td>FB</td>\n",
              "      <td>-0.026904</td>\n",
              "      <td>-0.026904</td>\n",
              "    </tr>\n",
              "    <tr>\n",
              "      <th>2</th>\n",
              "      <td>179.339996</td>\n",
              "      <td>180.869995</td>\n",
              "      <td>174.779999</td>\n",
              "      <td>179.529999</td>\n",
              "      <td>33020200</td>\n",
              "      <td>179.529999</td>\n",
              "      <td>15/08/2018</td>\n",
              "      <td>FB</td>\n",
              "      <td>-0.008724</td>\n",
              "      <td>-0.008724</td>\n",
              "    </tr>\n",
              "    <tr>\n",
              "      <th>3</th>\n",
              "      <td>180.710007</td>\n",
              "      <td>181.990005</td>\n",
              "      <td>178.619995</td>\n",
              "      <td>181.110001</td>\n",
              "      <td>19102000</td>\n",
              "      <td>181.110001</td>\n",
              "      <td>14/08/2018</td>\n",
              "      <td>FB</td>\n",
              "      <td>0.005887</td>\n",
              "      <td>0.005887</td>\n",
              "    </tr>\n",
              "    <tr>\n",
              "      <th>4</th>\n",
              "      <td>180.100006</td>\n",
              "      <td>182.610001</td>\n",
              "      <td>178.899994</td>\n",
              "      <td>180.050003</td>\n",
              "      <td>17369400</td>\n",
              "      <td>180.050003</td>\n",
              "      <td>13/08/2018</td>\n",
              "      <td>FB</td>\n",
              "      <td>-0.001165</td>\n",
              "      <td>-0.001165</td>\n",
              "    </tr>\n",
              "  </tbody>\n",
              "</table>\n",
              "</div>"
            ],
            "text/plain": [
              "   price.open  price.high   price.low  price.close    volume  price.adjusted  \\\n",
              "0  174.500000  176.220001  172.039993   173.800003  24825500      173.800003   \n",
              "1  180.419998  180.500000  174.009995   174.699997  31351800      174.699997   \n",
              "2  179.339996  180.869995  174.779999   179.529999  33020200      179.529999   \n",
              "3  180.710007  181.990005  178.619995   181.110001  19102000      181.110001   \n",
              "4  180.100006  182.610001  178.899994   180.050003  17369400      180.050003   \n",
              "\n",
              "     ref.date ticker  ret.adjusted.prices  ret.closing.prices  \n",
              "0  17/08/2018     FB            -0.005152           -0.005152  \n",
              "1  16/08/2018     FB            -0.026904           -0.026904  \n",
              "2  15/08/2018     FB            -0.008724           -0.008724  \n",
              "3  14/08/2018     FB             0.005887            0.005887  \n",
              "4  13/08/2018     FB            -0.001165           -0.001165  "
            ]
          },
          "metadata": {
            "tags": []
          },
          "execution_count": 3
        }
      ]
    },
    {
      "cell_type": "code",
      "metadata": {
        "id": "IhTo--3LAiU1"
      },
      "source": [
        "#Remove NaN\n",
        "fb.dropna()\n",
        "#Set the date as the index\n",
        "fb = fb.set_index(pd.DatetimeIndex(fb['ref.date'].values))"
      ],
      "execution_count": null,
      "outputs": []
    },
    {
      "cell_type": "code",
      "metadata": {
        "id": "6HtxXHknAiU2",
        "outputId": "a10f8961-507a-499e-b42f-30cbcb16eea0"
      },
      "source": [
        "fb.index.name = 'Date'\n",
        "fb"
      ],
      "execution_count": null,
      "outputs": [
        {
          "output_type": "execute_result",
          "data": {
            "text/html": [
              "<div>\n",
              "<style scoped>\n",
              "    .dataframe tbody tr th:only-of-type {\n",
              "        vertical-align: middle;\n",
              "    }\n",
              "\n",
              "    .dataframe tbody tr th {\n",
              "        vertical-align: top;\n",
              "    }\n",
              "\n",
              "    .dataframe thead th {\n",
              "        text-align: right;\n",
              "    }\n",
              "</style>\n",
              "<table border=\"1\" class=\"dataframe\">\n",
              "  <thead>\n",
              "    <tr style=\"text-align: right;\">\n",
              "      <th></th>\n",
              "      <th>price.open</th>\n",
              "      <th>price.high</th>\n",
              "      <th>price.low</th>\n",
              "      <th>price.close</th>\n",
              "      <th>volume</th>\n",
              "      <th>price.adjusted</th>\n",
              "      <th>ret.adjusted.prices</th>\n",
              "      <th>ret.closing.prices</th>\n",
              "      <th>Price_Up</th>\n",
              "    </tr>\n",
              "    <tr>\n",
              "      <th>Date</th>\n",
              "      <th></th>\n",
              "      <th></th>\n",
              "      <th></th>\n",
              "      <th></th>\n",
              "      <th></th>\n",
              "      <th></th>\n",
              "      <th></th>\n",
              "      <th></th>\n",
              "      <th></th>\n",
              "    </tr>\n",
              "  </thead>\n",
              "  <tbody>\n",
              "    <tr>\n",
              "      <th>2018-08-17</th>\n",
              "      <td>174.500000</td>\n",
              "      <td>176.220001</td>\n",
              "      <td>172.039993</td>\n",
              "      <td>173.800003</td>\n",
              "      <td>24825500</td>\n",
              "      <td>173.800003</td>\n",
              "      <td>-0.005152</td>\n",
              "      <td>-0.005152</td>\n",
              "      <td>1</td>\n",
              "    </tr>\n",
              "    <tr>\n",
              "      <th>2018-08-16</th>\n",
              "      <td>180.419998</td>\n",
              "      <td>180.500000</td>\n",
              "      <td>174.009995</td>\n",
              "      <td>174.699997</td>\n",
              "      <td>31351800</td>\n",
              "      <td>174.699997</td>\n",
              "      <td>-0.026904</td>\n",
              "      <td>-0.026904</td>\n",
              "      <td>1</td>\n",
              "    </tr>\n",
              "    <tr>\n",
              "      <th>2018-08-15</th>\n",
              "      <td>179.339996</td>\n",
              "      <td>180.869995</td>\n",
              "      <td>174.779999</td>\n",
              "      <td>179.529999</td>\n",
              "      <td>33020200</td>\n",
              "      <td>179.529999</td>\n",
              "      <td>-0.008724</td>\n",
              "      <td>-0.008724</td>\n",
              "      <td>1</td>\n",
              "    </tr>\n",
              "    <tr>\n",
              "      <th>2018-08-14</th>\n",
              "      <td>180.710007</td>\n",
              "      <td>181.990005</td>\n",
              "      <td>178.619995</td>\n",
              "      <td>181.110001</td>\n",
              "      <td>19102000</td>\n",
              "      <td>181.110001</td>\n",
              "      <td>0.005887</td>\n",
              "      <td>0.005887</td>\n",
              "      <td>0</td>\n",
              "    </tr>\n",
              "    <tr>\n",
              "      <th>2018-08-13</th>\n",
              "      <td>180.100006</td>\n",
              "      <td>182.610001</td>\n",
              "      <td>178.899994</td>\n",
              "      <td>180.050003</td>\n",
              "      <td>17369400</td>\n",
              "      <td>180.050003</td>\n",
              "      <td>-0.001165</td>\n",
              "      <td>-0.001165</td>\n",
              "      <td>1</td>\n",
              "    </tr>\n",
              "    <tr>\n",
              "      <th>...</th>\n",
              "      <td>...</td>\n",
              "      <td>...</td>\n",
              "      <td>...</td>\n",
              "      <td>...</td>\n",
              "      <td>...</td>\n",
              "      <td>...</td>\n",
              "      <td>...</td>\n",
              "      <td>...</td>\n",
              "      <td>...</td>\n",
              "    </tr>\n",
              "    <tr>\n",
              "      <th>2017-08-25</th>\n",
              "      <td>167.860001</td>\n",
              "      <td>168.380005</td>\n",
              "      <td>166.179993</td>\n",
              "      <td>166.320007</td>\n",
              "      <td>12614500</td>\n",
              "      <td>166.320007</td>\n",
              "      <td>-0.008465</td>\n",
              "      <td>-0.008465</td>\n",
              "      <td>1</td>\n",
              "    </tr>\n",
              "    <tr>\n",
              "      <th>2017-08-24</th>\n",
              "      <td>168.880005</td>\n",
              "      <td>169.289993</td>\n",
              "      <td>166.410004</td>\n",
              "      <td>167.740005</td>\n",
              "      <td>14030400</td>\n",
              "      <td>167.740005</td>\n",
              "      <td>-0.005750</td>\n",
              "      <td>-0.005750</td>\n",
              "      <td>1</td>\n",
              "    </tr>\n",
              "    <tr>\n",
              "      <th>2017-08-23</th>\n",
              "      <td>168.839996</td>\n",
              "      <td>169.360001</td>\n",
              "      <td>168.199997</td>\n",
              "      <td>168.710007</td>\n",
              "      <td>9856500</td>\n",
              "      <td>168.710007</td>\n",
              "      <td>-0.005482</td>\n",
              "      <td>-0.005482</td>\n",
              "      <td>1</td>\n",
              "    </tr>\n",
              "    <tr>\n",
              "      <th>2017-08-22</th>\n",
              "      <td>168.279999</td>\n",
              "      <td>169.869995</td>\n",
              "      <td>167.149994</td>\n",
              "      <td>169.639999</td>\n",
              "      <td>11391000</td>\n",
              "      <td>169.639999</td>\n",
              "      <td>0.011086</td>\n",
              "      <td>0.011086</td>\n",
              "      <td>0</td>\n",
              "    </tr>\n",
              "    <tr>\n",
              "      <th>2017-08-21</th>\n",
              "      <td>167.160004</td>\n",
              "      <td>168.000000</td>\n",
              "      <td>165.820007</td>\n",
              "      <td>167.779999</td>\n",
              "      <td>11907500</td>\n",
              "      <td>167.779999</td>\n",
              "      <td>0.002210</td>\n",
              "      <td>0.002210</td>\n",
              "      <td>0</td>\n",
              "    </tr>\n",
              "  </tbody>\n",
              "</table>\n",
              "<p>251 rows × 9 columns</p>\n",
              "</div>"
            ],
            "text/plain": [
              "            price.open  price.high   price.low  price.close    volume  \\\n",
              "Date                                                                    \n",
              "2018-08-17  174.500000  176.220001  172.039993   173.800003  24825500   \n",
              "2018-08-16  180.419998  180.500000  174.009995   174.699997  31351800   \n",
              "2018-08-15  179.339996  180.869995  174.779999   179.529999  33020200   \n",
              "2018-08-14  180.710007  181.990005  178.619995   181.110001  19102000   \n",
              "2018-08-13  180.100006  182.610001  178.899994   180.050003  17369400   \n",
              "...                ...         ...         ...          ...       ...   \n",
              "2017-08-25  167.860001  168.380005  166.179993   166.320007  12614500   \n",
              "2017-08-24  168.880005  169.289993  166.410004   167.740005  14030400   \n",
              "2017-08-23  168.839996  169.360001  168.199997   168.710007   9856500   \n",
              "2017-08-22  168.279999  169.869995  167.149994   169.639999  11391000   \n",
              "2017-08-21  167.160004  168.000000  165.820007   167.779999  11907500   \n",
              "\n",
              "            price.adjusted  ret.adjusted.prices  ret.closing.prices  Price_Up  \n",
              "Date                                                                           \n",
              "2018-08-17      173.800003            -0.005152           -0.005152         1  \n",
              "2018-08-16      174.699997            -0.026904           -0.026904         1  \n",
              "2018-08-15      179.529999            -0.008724           -0.008724         1  \n",
              "2018-08-14      181.110001             0.005887            0.005887         0  \n",
              "2018-08-13      180.050003            -0.001165           -0.001165         1  \n",
              "...                    ...                  ...                 ...       ...  \n",
              "2017-08-25      166.320007            -0.008465           -0.008465         1  \n",
              "2017-08-24      167.740005            -0.005750           -0.005750         1  \n",
              "2017-08-23      168.710007            -0.005482           -0.005482         1  \n",
              "2017-08-22      169.639999             0.011086            0.011086         0  \n",
              "2017-08-21      167.779999             0.002210            0.002210         0  \n",
              "\n",
              "[251 rows x 9 columns]"
            ]
          },
          "metadata": {
            "tags": []
          },
          "execution_count": 36
        }
      ]
    },
    {
      "cell_type": "code",
      "metadata": {
        "id": "TTJotgo_AiU3"
      },
      "source": [
        "#Maniplulate the data\n",
        "#Create a Target column - we want to know if the stock price went up \n",
        "\n",
        "fb['Price_Up']=np.where(fb['price.close'].shift(-1)>fb['price.close'],1,0)"
      ],
      "execution_count": null,
      "outputs": []
    },
    {
      "cell_type": "code",
      "metadata": {
        "id": "1VPyf5pTAiU3",
        "outputId": "f9b646ee-b9e0-4fdb-b5a7-a91fea08928c"
      },
      "source": [
        "fb = fb.dropna()\n",
        "fb.head()"
      ],
      "execution_count": null,
      "outputs": [
        {
          "output_type": "execute_result",
          "data": {
            "text/html": [
              "<div>\n",
              "<style scoped>\n",
              "    .dataframe tbody tr th:only-of-type {\n",
              "        vertical-align: middle;\n",
              "    }\n",
              "\n",
              "    .dataframe tbody tr th {\n",
              "        vertical-align: top;\n",
              "    }\n",
              "\n",
              "    .dataframe thead th {\n",
              "        text-align: right;\n",
              "    }\n",
              "</style>\n",
              "<table border=\"1\" class=\"dataframe\">\n",
              "  <thead>\n",
              "    <tr style=\"text-align: right;\">\n",
              "      <th></th>\n",
              "      <th>price.open</th>\n",
              "      <th>price.high</th>\n",
              "      <th>price.low</th>\n",
              "      <th>price.close</th>\n",
              "      <th>volume</th>\n",
              "      <th>price.adjusted</th>\n",
              "      <th>ret.adjusted.prices</th>\n",
              "      <th>ret.closing.prices</th>\n",
              "      <th>Price_Up</th>\n",
              "    </tr>\n",
              "    <tr>\n",
              "      <th>Date</th>\n",
              "      <th></th>\n",
              "      <th></th>\n",
              "      <th></th>\n",
              "      <th></th>\n",
              "      <th></th>\n",
              "      <th></th>\n",
              "      <th></th>\n",
              "      <th></th>\n",
              "      <th></th>\n",
              "    </tr>\n",
              "  </thead>\n",
              "  <tbody>\n",
              "    <tr>\n",
              "      <th>2018-08-17</th>\n",
              "      <td>174.500000</td>\n",
              "      <td>176.220001</td>\n",
              "      <td>172.039993</td>\n",
              "      <td>173.800003</td>\n",
              "      <td>24825500</td>\n",
              "      <td>173.800003</td>\n",
              "      <td>-0.005152</td>\n",
              "      <td>-0.005152</td>\n",
              "      <td>1</td>\n",
              "    </tr>\n",
              "    <tr>\n",
              "      <th>2018-08-16</th>\n",
              "      <td>180.419998</td>\n",
              "      <td>180.500000</td>\n",
              "      <td>174.009995</td>\n",
              "      <td>174.699997</td>\n",
              "      <td>31351800</td>\n",
              "      <td>174.699997</td>\n",
              "      <td>-0.026904</td>\n",
              "      <td>-0.026904</td>\n",
              "      <td>1</td>\n",
              "    </tr>\n",
              "    <tr>\n",
              "      <th>2018-08-15</th>\n",
              "      <td>179.339996</td>\n",
              "      <td>180.869995</td>\n",
              "      <td>174.779999</td>\n",
              "      <td>179.529999</td>\n",
              "      <td>33020200</td>\n",
              "      <td>179.529999</td>\n",
              "      <td>-0.008724</td>\n",
              "      <td>-0.008724</td>\n",
              "      <td>1</td>\n",
              "    </tr>\n",
              "    <tr>\n",
              "      <th>2018-08-14</th>\n",
              "      <td>180.710007</td>\n",
              "      <td>181.990005</td>\n",
              "      <td>178.619995</td>\n",
              "      <td>181.110001</td>\n",
              "      <td>19102000</td>\n",
              "      <td>181.110001</td>\n",
              "      <td>0.005887</td>\n",
              "      <td>0.005887</td>\n",
              "      <td>0</td>\n",
              "    </tr>\n",
              "    <tr>\n",
              "      <th>2018-08-13</th>\n",
              "      <td>180.100006</td>\n",
              "      <td>182.610001</td>\n",
              "      <td>178.899994</td>\n",
              "      <td>180.050003</td>\n",
              "      <td>17369400</td>\n",
              "      <td>180.050003</td>\n",
              "      <td>-0.001165</td>\n",
              "      <td>-0.001165</td>\n",
              "      <td>1</td>\n",
              "    </tr>\n",
              "  </tbody>\n",
              "</table>\n",
              "</div>"
            ],
            "text/plain": [
              "            price.open  price.high   price.low  price.close    volume  \\\n",
              "Date                                                                    \n",
              "2018-08-17  174.500000  176.220001  172.039993   173.800003  24825500   \n",
              "2018-08-16  180.419998  180.500000  174.009995   174.699997  31351800   \n",
              "2018-08-15  179.339996  180.869995  174.779999   179.529999  33020200   \n",
              "2018-08-14  180.710007  181.990005  178.619995   181.110001  19102000   \n",
              "2018-08-13  180.100006  182.610001  178.899994   180.050003  17369400   \n",
              "\n",
              "            price.adjusted  ret.adjusted.prices  ret.closing.prices  Price_Up  \n",
              "Date                                                                           \n",
              "2018-08-17      173.800003            -0.005152           -0.005152         1  \n",
              "2018-08-16      174.699997            -0.026904           -0.026904         1  \n",
              "2018-08-15      179.529999            -0.008724           -0.008724         1  \n",
              "2018-08-14      181.110001             0.005887            0.005887         0  \n",
              "2018-08-13      180.050003            -0.001165           -0.001165         1  "
            ]
          },
          "metadata": {
            "tags": []
          },
          "execution_count": 27
        }
      ]
    },
    {
      "cell_type": "code",
      "metadata": {
        "id": "DpPRPJKLAiU4"
      },
      "source": [
        "#split the data into a feature dataset \n",
        "X = fb.drop('Price_Up',axis=1)\n",
        "y = fb['Price_Up']"
      ],
      "execution_count": null,
      "outputs": []
    },
    {
      "cell_type": "code",
      "metadata": {
        "id": "86LfmQUFAiU4"
      },
      "source": [
        "#Split the data into 80% training and 20% testing\n",
        "X_train,X_test,y_train,y_test = train_test_split(X,y, test_size = 0.2)"
      ],
      "execution_count": null,
      "outputs": []
    },
    {
      "cell_type": "code",
      "metadata": {
        "id": "NL3Hs5OJAiU5",
        "outputId": "5a5a7919-55ec-43a3-d716-3f0f40fb7337"
      },
      "source": [
        "#Create and train model's\n",
        "\n",
        "tree = DecisionTreeClassifier()\n",
        "tree.fit(X_train,y_train)"
      ],
      "execution_count": null,
      "outputs": [
        {
          "output_type": "execute_result",
          "data": {
            "text/plain": [
              "DecisionTreeClassifier(ccp_alpha=0.0, class_weight=None, criterion='gini',\n",
              "                       max_depth=None, max_features=None, max_leaf_nodes=None,\n",
              "                       min_impurity_decrease=0.0, min_impurity_split=None,\n",
              "                       min_samples_leaf=1, min_samples_split=2,\n",
              "                       min_weight_fraction_leaf=0.0, presort='deprecated',\n",
              "                       random_state=None, splitter='best')"
            ]
          },
          "metadata": {
            "tags": []
          },
          "execution_count": 34
        }
      ]
    },
    {
      "cell_type": "code",
      "metadata": {
        "id": "tSr9uIOMAiU5",
        "outputId": "8dc9d934-d3bc-4594-fdca-de35d5d4fe00"
      },
      "source": [
        "print(tree.score(X_test,y_test))"
      ],
      "execution_count": null,
      "outputs": [
        {
          "output_type": "stream",
          "text": [
            "0.9803921568627451\n"
          ],
          "name": "stdout"
        }
      ]
    },
    {
      "cell_type": "code",
      "metadata": {
        "id": "VTmU06ToAiU6",
        "outputId": "38f92b04-ff22-4134-d9ab-46abf25ba19a"
      },
      "source": [
        "Test_Predictions = tree.predict(X_test)\n",
        "Test_Predictions"
      ],
      "execution_count": null,
      "outputs": [
        {
          "output_type": "execute_result",
          "data": {
            "text/plain": [
              "array([1, 0, 1, 1, 1, 0, 1, 0, 1, 1, 0, 1, 1, 0, 0, 0, 0, 1, 0, 1, 0, 0,\n",
              "       1, 0, 1, 0, 1, 1, 0, 1, 0, 0, 1, 0, 1, 0, 1, 1, 1, 0, 1, 1, 1, 0,\n",
              "       1, 1, 1, 0, 1, 1, 0])"
            ]
          },
          "metadata": {
            "tags": []
          },
          "execution_count": 40
        }
      ]
    },
    {
      "cell_type": "code",
      "metadata": {
        "id": "eVp0P6gLAiU7",
        "outputId": "20c23dec-476e-4240-d280-abf4ac6504a7"
      },
      "source": [
        "y_test"
      ],
      "execution_count": null,
      "outputs": [
        {
          "output_type": "execute_result",
          "data": {
            "text/plain": [
              "Date\n",
              "2018-02-16    1\n",
              "2018-07-13    0\n",
              "2017-08-23    1\n",
              "2018-07-26    1\n",
              "2018-09-08    1\n",
              "2018-07-05    0\n",
              "2018-03-15    1\n",
              "2018-08-08    0\n",
              "2017-09-11    1\n",
              "2017-02-11    1\n",
              "2018-01-05    0\n",
              "2017-12-20    1\n",
              "2018-01-24    1\n",
              "2018-06-14    0\n",
              "2018-01-19    0\n",
              "2018-07-03    0\n",
              "2018-05-01    0\n",
              "2017-12-10    1\n",
              "2018-05-04    0\n",
              "2018-04-01    1\n",
              "2017-12-14    0\n",
              "2017-11-10    0\n",
              "2018-07-08    1\n",
              "2017-10-26    0\n",
              "2018-01-08    1\n",
              "2017-12-15    0\n",
              "2018-07-19    1\n",
              "2017-10-25    1\n",
              "2018-05-23    0\n",
              "2018-08-02    1\n",
              "2017-09-15    0\n",
              "2017-03-11    0\n",
              "2017-09-14    1\n",
              "2018-02-03    0\n",
              "2018-04-04    1\n",
              "2018-11-06    0\n",
              "2018-01-17    1\n",
              "2018-12-04    1\n",
              "2017-08-24    1\n",
              "2018-02-01    0\n",
              "2018-02-28    1\n",
              "2017-04-12    1\n",
              "2017-12-19    1\n",
              "2018-11-04    0\n",
              "2018-01-03    1\n",
              "2018-07-30    1\n",
              "2017-09-18    1\n",
              "2018-10-01    1\n",
              "2017-10-23    1\n",
              "2018-02-04    1\n",
              "2017-12-28    0\n",
              "Name: Price_Up, dtype: int32"
            ]
          },
          "metadata": {
            "tags": []
          },
          "execution_count": 42
        }
      ]
    },
    {
      "cell_type": "code",
      "metadata": {
        "id": "L9_pcbE6AiU7"
      },
      "source": [
        ""
      ],
      "execution_count": null,
      "outputs": []
    },
    {
      "cell_type": "code",
      "metadata": {
        "id": "Xy1gAnWSAiU8"
      },
      "source": [
        ""
      ],
      "execution_count": null,
      "outputs": []
    }
  ]
}