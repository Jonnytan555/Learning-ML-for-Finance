{
  "nbformat": 4,
  "nbformat_minor": 0,
  "metadata": {
    "kernelspec": {
      "display_name": "Python 3",
      "language": "python",
      "name": "python3"
    },
    "language_info": {
      "codemirror_mode": {
        "name": "ipython",
        "version": 3
      },
      "file_extension": ".py",
      "mimetype": "text/x-python",
      "name": "python",
      "nbconvert_exporter": "python",
      "pygments_lexer": "ipython3",
      "version": "3.7.6"
    },
    "colab": {
      "name": "Algorithmic Trading Strategy Using Three Moving Averages & Python.ipynb",
      "provenance": [],
      "include_colab_link": true
    }
  },
  "cells": [
    {
      "cell_type": "markdown",
      "metadata": {
        "id": "view-in-github",
        "colab_type": "text"
      },
      "source": [
        "<a href=\"https://colab.research.google.com/github/Jonnytan555/ML_for_Finance/blob/main/Algorithmic_Trading_Strategy_Using_Three_Moving_Averages_%26_Python.ipynb\" target=\"_parent\"><img src=\"https://colab.research.google.com/assets/colab-badge.svg\" alt=\"Open In Colab\"/></a>"
      ]
    },
    {
      "cell_type": "markdown",
      "metadata": {
        "id": "zcISkPvF-x_s"
      },
      "source": [
        "# Algorithmic Trading Strategy Using Three Moving Averages & Python"
      ]
    },
    {
      "cell_type": "markdown",
      "metadata": {
        "id": "HDNPdxyD-x_7"
      },
      "source": [
        "Description\n",
        "\n",
        "3 moving average trading strategy \n",
        "1. Short moving average\n",
        "2. Medium Moving average\n",
        "3. Long Moving average\n",
        "\n",
        "2 buy or sell signals \n",
        "\n",
        "1. Buy when medium moving average moves above the high moving average\n",
        "2. Or low moveing average moves below the medium moving averge\n",
        "\n",
        "1. sell if short moving average moves above the medium moving average\n",
        "2. Or high moveing average moves below the medium moving averge\n"
      ]
    },
    {
      "cell_type": "code",
      "metadata": {
        "id": "bUMiW7OE-x_-"
      },
      "source": [
        "#Import libaries\n",
        "import pandas as pd\n",
        "import numpy as np\n",
        "import matplotlib.pyplot as plt\n",
        "plt.style.use('fivethirtyeight')"
      ],
      "execution_count": null,
      "outputs": []
    },
    {
      "cell_type": "code",
      "metadata": {
        "id": "IAiNIcVv-x__",
        "outputId": "5caac39d-fd51-4ae4-ecdb-52cc58cad9ed"
      },
      "source": [
        "#load in the data\n",
        "AMZN = pd.read_csv('AMZN.csv')\n",
        "AMZN.head()"
      ],
      "execution_count": null,
      "outputs": [
        {
          "output_type": "execute_result",
          "data": {
            "text/html": [
              "<div>\n",
              "<style scoped>\n",
              "    .dataframe tbody tr th:only-of-type {\n",
              "        vertical-align: middle;\n",
              "    }\n",
              "\n",
              "    .dataframe tbody tr th {\n",
              "        vertical-align: top;\n",
              "    }\n",
              "\n",
              "    .dataframe thead th {\n",
              "        text-align: right;\n",
              "    }\n",
              "</style>\n",
              "<table border=\"1\" class=\"dataframe\">\n",
              "  <thead>\n",
              "    <tr style=\"text-align: right;\">\n",
              "      <th></th>\n",
              "      <th>Date</th>\n",
              "      <th>Open</th>\n",
              "      <th>High</th>\n",
              "      <th>Low</th>\n",
              "      <th>Close</th>\n",
              "      <th>Adj Close</th>\n",
              "      <th>Volume</th>\n",
              "    </tr>\n",
              "  </thead>\n",
              "  <tbody>\n",
              "    <tr>\n",
              "      <th>0</th>\n",
              "      <td>2019-09-09</td>\n",
              "      <td>1841.000000</td>\n",
              "      <td>1850.000000</td>\n",
              "      <td>1824.609985</td>\n",
              "      <td>1831.349976</td>\n",
              "      <td>1831.349976</td>\n",
              "      <td>2999500</td>\n",
              "    </tr>\n",
              "    <tr>\n",
              "      <th>1</th>\n",
              "      <td>2019-09-10</td>\n",
              "      <td>1822.750000</td>\n",
              "      <td>1825.810059</td>\n",
              "      <td>1805.339966</td>\n",
              "      <td>1820.550049</td>\n",
              "      <td>1820.550049</td>\n",
              "      <td>2613900</td>\n",
              "    </tr>\n",
              "    <tr>\n",
              "      <th>2</th>\n",
              "      <td>2019-09-11</td>\n",
              "      <td>1812.140015</td>\n",
              "      <td>1833.420044</td>\n",
              "      <td>1809.079956</td>\n",
              "      <td>1822.989990</td>\n",
              "      <td>1822.989990</td>\n",
              "      <td>2432800</td>\n",
              "    </tr>\n",
              "    <tr>\n",
              "      <th>3</th>\n",
              "      <td>2019-09-12</td>\n",
              "      <td>1837.630005</td>\n",
              "      <td>1853.660034</td>\n",
              "      <td>1834.280029</td>\n",
              "      <td>1843.550049</td>\n",
              "      <td>1843.550049</td>\n",
              "      <td>2823500</td>\n",
              "    </tr>\n",
              "    <tr>\n",
              "      <th>4</th>\n",
              "      <td>2019-09-13</td>\n",
              "      <td>1842.010010</td>\n",
              "      <td>1846.119995</td>\n",
              "      <td>1835.170044</td>\n",
              "      <td>1839.339966</td>\n",
              "      <td>1839.339966</td>\n",
              "      <td>1971300</td>\n",
              "    </tr>\n",
              "  </tbody>\n",
              "</table>\n",
              "</div>"
            ],
            "text/plain": [
              "         Date         Open         High          Low        Close  \\\n",
              "0  2019-09-09  1841.000000  1850.000000  1824.609985  1831.349976   \n",
              "1  2019-09-10  1822.750000  1825.810059  1805.339966  1820.550049   \n",
              "2  2019-09-11  1812.140015  1833.420044  1809.079956  1822.989990   \n",
              "3  2019-09-12  1837.630005  1853.660034  1834.280029  1843.550049   \n",
              "4  2019-09-13  1842.010010  1846.119995  1835.170044  1839.339966   \n",
              "\n",
              "     Adj Close   Volume  \n",
              "0  1831.349976  2999500  \n",
              "1  1820.550049  2613900  \n",
              "2  1822.989990  2432800  \n",
              "3  1843.550049  2823500  \n",
              "4  1839.339966  1971300  "
            ]
          },
          "metadata": {
            "tags": []
          },
          "execution_count": 2
        }
      ]
    },
    {
      "cell_type": "code",
      "metadata": {
        "id": "ubkIQNei-yAB",
        "outputId": "03afc5e5-af4f-4145-ad3e-5b259eeb5e4f"
      },
      "source": [
        "#set index as date\n",
        "AMZN = AMZN.set_index(pd.DatetimeIndex(AMZN['Date'].values))"
      ],
      "execution_count": null,
      "outputs": [
        {
          "output_type": "execute_result",
          "data": {
            "text/html": [
              "<div>\n",
              "<style scoped>\n",
              "    .dataframe tbody tr th:only-of-type {\n",
              "        vertical-align: middle;\n",
              "    }\n",
              "\n",
              "    .dataframe tbody tr th {\n",
              "        vertical-align: top;\n",
              "    }\n",
              "\n",
              "    .dataframe thead th {\n",
              "        text-align: right;\n",
              "    }\n",
              "</style>\n",
              "<table border=\"1\" class=\"dataframe\">\n",
              "  <thead>\n",
              "    <tr style=\"text-align: right;\">\n",
              "      <th></th>\n",
              "      <th>Date</th>\n",
              "      <th>Open</th>\n",
              "      <th>High</th>\n",
              "      <th>Low</th>\n",
              "      <th>Close</th>\n",
              "      <th>Adj Close</th>\n",
              "      <th>Volume</th>\n",
              "    </tr>\n",
              "  </thead>\n",
              "  <tbody>\n",
              "    <tr>\n",
              "      <th>2019-09-09</th>\n",
              "      <td>2019-09-09</td>\n",
              "      <td>1841.000000</td>\n",
              "      <td>1850.000000</td>\n",
              "      <td>1824.609985</td>\n",
              "      <td>1831.349976</td>\n",
              "      <td>1831.349976</td>\n",
              "      <td>2999500</td>\n",
              "    </tr>\n",
              "    <tr>\n",
              "      <th>2019-09-10</th>\n",
              "      <td>2019-09-10</td>\n",
              "      <td>1822.750000</td>\n",
              "      <td>1825.810059</td>\n",
              "      <td>1805.339966</td>\n",
              "      <td>1820.550049</td>\n",
              "      <td>1820.550049</td>\n",
              "      <td>2613900</td>\n",
              "    </tr>\n",
              "    <tr>\n",
              "      <th>2019-09-11</th>\n",
              "      <td>2019-09-11</td>\n",
              "      <td>1812.140015</td>\n",
              "      <td>1833.420044</td>\n",
              "      <td>1809.079956</td>\n",
              "      <td>1822.989990</td>\n",
              "      <td>1822.989990</td>\n",
              "      <td>2432800</td>\n",
              "    </tr>\n",
              "    <tr>\n",
              "      <th>2019-09-12</th>\n",
              "      <td>2019-09-12</td>\n",
              "      <td>1837.630005</td>\n",
              "      <td>1853.660034</td>\n",
              "      <td>1834.280029</td>\n",
              "      <td>1843.550049</td>\n",
              "      <td>1843.550049</td>\n",
              "      <td>2823500</td>\n",
              "    </tr>\n",
              "    <tr>\n",
              "      <th>2019-09-13</th>\n",
              "      <td>2019-09-13</td>\n",
              "      <td>1842.010010</td>\n",
              "      <td>1846.119995</td>\n",
              "      <td>1835.170044</td>\n",
              "      <td>1839.339966</td>\n",
              "      <td>1839.339966</td>\n",
              "      <td>1971300</td>\n",
              "    </tr>\n",
              "    <tr>\n",
              "      <th>...</th>\n",
              "      <td>...</td>\n",
              "      <td>...</td>\n",
              "      <td>...</td>\n",
              "      <td>...</td>\n",
              "      <td>...</td>\n",
              "      <td>...</td>\n",
              "      <td>...</td>\n",
              "    </tr>\n",
              "    <tr>\n",
              "      <th>2020-09-01</th>\n",
              "      <td>2020-09-01</td>\n",
              "      <td>3489.580078</td>\n",
              "      <td>3513.870117</td>\n",
              "      <td>3467.000000</td>\n",
              "      <td>3499.120117</td>\n",
              "      <td>3499.120117</td>\n",
              "      <td>3476400</td>\n",
              "    </tr>\n",
              "    <tr>\n",
              "      <th>2020-09-02</th>\n",
              "      <td>2020-09-02</td>\n",
              "      <td>3547.000000</td>\n",
              "      <td>3552.250000</td>\n",
              "      <td>3486.689941</td>\n",
              "      <td>3531.449951</td>\n",
              "      <td>3531.449951</td>\n",
              "      <td>3931500</td>\n",
              "    </tr>\n",
              "    <tr>\n",
              "      <th>2020-09-03</th>\n",
              "      <td>2020-09-03</td>\n",
              "      <td>3485.000000</td>\n",
              "      <td>3488.409912</td>\n",
              "      <td>3303.000000</td>\n",
              "      <td>3368.000000</td>\n",
              "      <td>3368.000000</td>\n",
              "      <td>8161100</td>\n",
              "    </tr>\n",
              "    <tr>\n",
              "      <th>2020-09-04</th>\n",
              "      <td>2020-09-04</td>\n",
              "      <td>3318.000000</td>\n",
              "      <td>3381.500000</td>\n",
              "      <td>3111.129883</td>\n",
              "      <td>3294.620117</td>\n",
              "      <td>3294.620117</td>\n",
              "      <td>8781800</td>\n",
              "    </tr>\n",
              "    <tr>\n",
              "      <th>2020-09-08</th>\n",
              "      <td>2020-09-08</td>\n",
              "      <td>3144.000000</td>\n",
              "      <td>3250.844971</td>\n",
              "      <td>3130.000000</td>\n",
              "      <td>3192.600098</td>\n",
              "      <td>3192.600098</td>\n",
              "      <td>3027654</td>\n",
              "    </tr>\n",
              "  </tbody>\n",
              "</table>\n",
              "<p>253 rows × 7 columns</p>\n",
              "</div>"
            ],
            "text/plain": [
              "                  Date         Open         High          Low        Close  \\\n",
              "2019-09-09  2019-09-09  1841.000000  1850.000000  1824.609985  1831.349976   \n",
              "2019-09-10  2019-09-10  1822.750000  1825.810059  1805.339966  1820.550049   \n",
              "2019-09-11  2019-09-11  1812.140015  1833.420044  1809.079956  1822.989990   \n",
              "2019-09-12  2019-09-12  1837.630005  1853.660034  1834.280029  1843.550049   \n",
              "2019-09-13  2019-09-13  1842.010010  1846.119995  1835.170044  1839.339966   \n",
              "...                ...          ...          ...          ...          ...   \n",
              "2020-09-01  2020-09-01  3489.580078  3513.870117  3467.000000  3499.120117   \n",
              "2020-09-02  2020-09-02  3547.000000  3552.250000  3486.689941  3531.449951   \n",
              "2020-09-03  2020-09-03  3485.000000  3488.409912  3303.000000  3368.000000   \n",
              "2020-09-04  2020-09-04  3318.000000  3381.500000  3111.129883  3294.620117   \n",
              "2020-09-08  2020-09-08  3144.000000  3250.844971  3130.000000  3192.600098   \n",
              "\n",
              "              Adj Close   Volume  \n",
              "2019-09-09  1831.349976  2999500  \n",
              "2019-09-10  1820.550049  2613900  \n",
              "2019-09-11  1822.989990  2432800  \n",
              "2019-09-12  1843.550049  2823500  \n",
              "2019-09-13  1839.339966  1971300  \n",
              "...                 ...      ...  \n",
              "2020-09-01  3499.120117  3476400  \n",
              "2020-09-02  3531.449951  3931500  \n",
              "2020-09-03  3368.000000  8161100  \n",
              "2020-09-04  3294.620117  8781800  \n",
              "2020-09-08  3192.600098  3027654  \n",
              "\n",
              "[253 rows x 7 columns]"
            ]
          },
          "metadata": {
            "tags": []
          },
          "execution_count": 4
        }
      ]
    },
    {
      "cell_type": "code",
      "metadata": {
        "id": "2aBa9Bev-yAC"
      },
      "source": [
        "AMZN.drop('Date',axis=1,inplace=True)"
      ],
      "execution_count": null,
      "outputs": []
    },
    {
      "cell_type": "code",
      "metadata": {
        "id": "pg0wSFLz-yAD",
        "outputId": "eac65168-93c3-48a8-b4d8-51c7489b412a"
      },
      "source": [
        "#Visually show the close price\n",
        "plt.figure(figsize=(12.2,4.5))\n",
        "plt.title('Closing Prices', fontsize=18)\n",
        "plt.plot(AMZN['Close'])\n",
        "plt.xlabel('Date', fontsize=18)\n",
        "plt.ylabel('Close Price', fontsize=18)\n",
        "plt.show"
      ],
      "execution_count": null,
      "outputs": [
        {
          "output_type": "execute_result",
          "data": {
            "text/plain": [
              "<function matplotlib.pyplot.show(*args, **kw)>"
            ]
          },
          "metadata": {
            "tags": []
          },
          "execution_count": 7
        },
        {
          "output_type": "display_data",
          "data": {
            "image/png": "[encoded data removed]",
            "text/plain": [
              "<Figure size 878.4x324 with 1 Axes>"
            ]
          },
          "metadata": {
            "tags": []
          }
        }
      ]
    },
    {
      "cell_type": "code",
      "metadata": {
        "id": "S7TkUsEc-yAD"
      },
      "source": [
        "#Calcualte the "
      ],
      "execution_count": null,
      "outputs": []
    },
    {
      "cell_type": "code",
      "metadata": {
        "id": "yqDYs3ax-yAE"
      },
      "source": [
        ""
      ],
      "execution_count": null,
      "outputs": []
    },
    {
      "cell_type": "code",
      "metadata": {
        "id": "zdv2f0rr-yAF"
      },
      "source": [
        ""
      ],
      "execution_count": null,
      "outputs": []
    },
    {
      "cell_type": "code",
      "metadata": {
        "id": "y7GOGjfP-yAF"
      },
      "source": [
        ""
      ],
      "execution_count": null,
      "outputs": []
    }
  ]
}