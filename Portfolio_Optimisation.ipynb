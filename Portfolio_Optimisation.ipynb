{
  "nbformat": 4,
  "nbformat_minor": 0,
  "metadata": {
    "kernelspec": {
      "display_name": "Python 3",
      "language": "python",
      "name": "python3"
    },
    "language_info": {
      "codemirror_mode": {
        "name": "ipython",
        "version": 3
      },
      "file_extension": ".py",
      "mimetype": "text/x-python",
      "name": "python",
      "nbconvert_exporter": "python",
      "pygments_lexer": "ipython3",
      "version": "3.7.6"
    },
    "colab": {
      "name": "Portfolio Optimisation.ipynb",
      "provenance": [],
      "include_colab_link": true
    }
  },
  "cells": [
    {
      "cell_type": "markdown",
      "metadata": {
        "id": "view-in-github",
        "colab_type": "text"
      },
      "source": [
        "<a href=\"https://colab.research.google.com/github/Jonnytan555/ML_for_Finance/blob/main/Portfolio_Optimisation.ipynb\" target=\"_parent\"><img src=\"https://colab.research.google.com/assets/colab-badge.svg\" alt=\"Open In Colab\"/></a>"
      ]
    },
    {
      "cell_type": "code",
      "metadata": {
        "id": "spwNEN8P4oVX"
      },
      "source": [
        "#https://medium.com/@randerson112358/python-for-finance-portfolio-optimization-66882498847?fbclid=IwAR0YJAd0_iEKaYLHXZMzZJ2x6zdmlgJSawPwTiYCCLEP1BZar1kNbz8DlHQ\n",
        "#https://pyportfolioopt.readthedocs.io/en/latest/\n",
        "#import libaries\n",
        "\n",
        "from datetime import datetime \n",
        "import numpy as np \n",
        "import pandas as pd\n",
        "import pandas_datareader as web\n",
        "import matplotlib.pyplot as plt\n",
        "plt.style.use('fivethirtyeight')"
      ],
      "execution_count": null,
      "outputs": []
    },
    {
      "cell_type": "code",
      "metadata": {
        "id": "N1hWUqjx4oVl"
      },
      "source": [
        "#List stock Names\n",
        "\n",
        "stockSymbols = [\"FB\",\"AMZN\",\"AAPL\",\"NFLX\",\"GOOG\"]"
      ],
      "execution_count": null,
      "outputs": []
    },
    {
      "cell_type": "code",
      "metadata": {
        "id": "uzyMqenA4oVm"
      },
      "source": [
        "#Assign weights to stocks\n",
        "\n",
        "weights = np.array([0.2,0.2,0.2,0.2,0.2]) "
      ],
      "execution_count": null,
      "outputs": []
    },
    {
      "cell_type": "code",
      "metadata": {
        "id": "xaq-9Cxp4oVn",
        "outputId": "d643755d-056b-4ded-b8cf-cb0e414c6e2f"
      },
      "source": [
        "#Set and start and end date\n",
        "stocksStartDate = '2013-01-01'\n",
        "today = datetime.today().strftime(\"%Y-%m-%d\")\n",
        "\n",
        "print(today)"
      ],
      "execution_count": null,
      "outputs": [
        {
          "output_type": "stream",
          "text": [
            "2020-09-18\n"
          ],
          "name": "stdout"
        }
      ]
    },
    {
      "cell_type": "code",
      "metadata": {
        "id": "w_UVu7sJ4oVo"
      },
      "source": [
        "#get adjusted close stock prices \n",
        "\n",
        "def getmyPortfolio(stocks=stockSymbols,start=stocksStartDate,end=today,col='Adj Close'):\n",
        "    data = web.DataReader(stocks,data_source='yahoo',start=start,end=end)[col]\n",
        "    return data "
      ],
      "execution_count": null,
      "outputs": []
    },
    {
      "cell_type": "code",
      "metadata": {
        "id": "hLeQ1Vt_4oVp",
        "outputId": "377d7896-f548-4ca2-e621-dda12b7b8b43"
      },
      "source": [
        "my_stocks = getmyPortfolio(stockSymbols)\n",
        "my_stocks"
      ],
      "execution_count": null,
      "outputs": [
        {
          "output_type": "execute_result",
          "data": {
            "text/html": [
              "<div>\n",
              "<style scoped>\n",
              "    .dataframe tbody tr th:only-of-type {\n",
              "        vertical-align: middle;\n",
              "    }\n",
              "\n",
              "    .dataframe tbody tr th {\n",
              "        vertical-align: top;\n",
              "    }\n",
              "\n",
              "    .dataframe thead th {\n",
              "        text-align: right;\n",
              "    }\n",
              "</style>\n",
              "<table border=\"1\" class=\"dataframe\">\n",
              "  <thead>\n",
              "    <tr style=\"text-align: right;\">\n",
              "      <th>Symbols</th>\n",
              "      <th>FB</th>\n",
              "      <th>AMZN</th>\n",
              "      <th>AAPL</th>\n",
              "      <th>NFLX</th>\n",
              "      <th>GOOG</th>\n",
              "    </tr>\n",
              "    <tr>\n",
              "      <th>Date</th>\n",
              "      <th></th>\n",
              "      <th></th>\n",
              "      <th></th>\n",
              "      <th></th>\n",
              "      <th></th>\n",
              "    </tr>\n",
              "  </thead>\n",
              "  <tbody>\n",
              "    <tr>\n",
              "      <th>2013-01-02</th>\n",
              "      <td>28.000000</td>\n",
              "      <td>257.309998</td>\n",
              "      <td>17.094694</td>\n",
              "      <td>13.144286</td>\n",
              "      <td>360.274597</td>\n",
              "    </tr>\n",
              "    <tr>\n",
              "      <th>2013-01-03</th>\n",
              "      <td>27.770000</td>\n",
              "      <td>258.480011</td>\n",
              "      <td>16.878920</td>\n",
              "      <td>13.798572</td>\n",
              "      <td>360.483826</td>\n",
              "    </tr>\n",
              "    <tr>\n",
              "      <th>2013-01-04</th>\n",
              "      <td>28.760000</td>\n",
              "      <td>259.149994</td>\n",
              "      <td>16.408764</td>\n",
              "      <td>13.711429</td>\n",
              "      <td>367.607117</td>\n",
              "    </tr>\n",
              "    <tr>\n",
              "      <th>2013-01-07</th>\n",
              "      <td>29.420000</td>\n",
              "      <td>268.459991</td>\n",
              "      <td>16.312239</td>\n",
              "      <td>14.171429</td>\n",
              "      <td>366.003143</td>\n",
              "    </tr>\n",
              "    <tr>\n",
              "      <th>2013-01-08</th>\n",
              "      <td>29.059999</td>\n",
              "      <td>266.380005</td>\n",
              "      <td>16.356150</td>\n",
              "      <td>13.880000</td>\n",
              "      <td>365.280823</td>\n",
              "    </tr>\n",
              "    <tr>\n",
              "      <th>...</th>\n",
              "      <td>...</td>\n",
              "      <td>...</td>\n",
              "      <td>...</td>\n",
              "      <td>...</td>\n",
              "      <td>...</td>\n",
              "    </tr>\n",
              "    <tr>\n",
              "      <th>2020-09-14</th>\n",
              "      <td>266.149994</td>\n",
              "      <td>3102.969971</td>\n",
              "      <td>115.360001</td>\n",
              "      <td>476.260010</td>\n",
              "      <td>1519.280029</td>\n",
              "    </tr>\n",
              "    <tr>\n",
              "      <th>2020-09-15</th>\n",
              "      <td>272.420013</td>\n",
              "      <td>3156.129883</td>\n",
              "      <td>115.540001</td>\n",
              "      <td>495.989990</td>\n",
              "      <td>1541.439941</td>\n",
              "    </tr>\n",
              "    <tr>\n",
              "      <th>2020-09-16</th>\n",
              "      <td>263.519989</td>\n",
              "      <td>3078.100098</td>\n",
              "      <td>112.129997</td>\n",
              "      <td>483.859985</td>\n",
              "      <td>1520.900024</td>\n",
              "    </tr>\n",
              "    <tr>\n",
              "      <th>2020-09-17</th>\n",
              "      <td>254.820007</td>\n",
              "      <td>3008.729980</td>\n",
              "      <td>110.339996</td>\n",
              "      <td>470.200012</td>\n",
              "      <td>1495.530029</td>\n",
              "    </tr>\n",
              "    <tr>\n",
              "      <th>2020-09-18</th>\n",
              "      <td>254.199997</td>\n",
              "      <td>2964.889893</td>\n",
              "      <td>107.970001</td>\n",
              "      <td>468.535004</td>\n",
              "      <td>1473.575073</td>\n",
              "    </tr>\n",
              "  </tbody>\n",
              "</table>\n",
              "<p>1943 rows × 5 columns</p>\n",
              "</div>"
            ],
            "text/plain": [
              "Symbols             FB         AMZN        AAPL        NFLX         GOOG\n",
              "Date                                                                    \n",
              "2013-01-02   28.000000   257.309998   17.094694   13.144286   360.274597\n",
              "2013-01-03   27.770000   258.480011   16.878920   13.798572   360.483826\n",
              "2013-01-04   28.760000   259.149994   16.408764   13.711429   367.607117\n",
              "2013-01-07   29.420000   268.459991   16.312239   14.171429   366.003143\n",
              "2013-01-08   29.059999   266.380005   16.356150   13.880000   365.280823\n",
              "...                ...          ...         ...         ...          ...\n",
              "2020-09-14  266.149994  3102.969971  115.360001  476.260010  1519.280029\n",
              "2020-09-15  272.420013  3156.129883  115.540001  495.989990  1541.439941\n",
              "2020-09-16  263.519989  3078.100098  112.129997  483.859985  1520.900024\n",
              "2020-09-17  254.820007  3008.729980  110.339996  470.200012  1495.530029\n",
              "2020-09-18  254.199997  2964.889893  107.970001  468.535004  1473.575073\n",
              "\n",
              "[1943 rows x 5 columns]"
            ]
          },
          "metadata": {
            "tags": []
          },
          "execution_count": 6
        }
      ]
    },
    {
      "cell_type": "code",
      "metadata": {
        "id": "25bRAPtG4oVp"
      },
      "source": [
        "def showGraph(stocks=stockSymbols, start=stocksStartDate, end=today, col ='Adj Close'):\n",
        "    \n",
        "    #Create title\n",
        "    title = 'Portfolio '+col+' Price History'\n",
        "    \n",
        "    #Get Portfolio info\n",
        "    \n",
        "    my_stocks = getmyPortfolio(stocks = stocks, start=start, end=end, col=col)\n",
        "    \n",
        "    #Plot the initial base graph setup\n",
        "    \n",
        "    plt.figure(figsize=(15,7))\n",
        "    \n",
        "    #loop through each of your Stocks and plot the results\n",
        "    \n",
        "    for c in my_stocks.columns.values:\n",
        "        plt.plot(my_stocks[c],label=c)\n",
        "        \n",
        "    plt.title(title)\n",
        "    plt.xlabel('Date', fontsize = 18)\n",
        "    plt.ylabel(col+' Price USD ($)', fontsize=18)\n",
        "    plt.legend(my_stocks.columns.values, loc='upper left')\n",
        "    plt.show()\n",
        "    "
      ],
      "execution_count": null,
      "outputs": []
    },
    {
      "cell_type": "code",
      "metadata": {
        "id": "mXz5qmSs4oVq",
        "outputId": "b1a4ed0e-56da-4942-9f5e-b65e78fe8752"
      },
      "source": [
        "showGraph(stockSymbols)"
      ],
      "execution_count": null,
      "outputs": [
        {
          "output_type": "display_data",
          "data": {
            "image/png": "[encoded data removed]",
            "text/plain": [
              "<Figure size 1080x504 with 1 Axes>"
            ]
          },
          "metadata": {
            "tags": []
          }
        }
      ]
    },
    {
      "cell_type": "code",
      "metadata": {
        "id": "kFf4W_FE4oVr",
        "outputId": "83bbb891-17d6-448e-f06d-51a52c6092e7"
      },
      "source": [
        "#show the daily simple return\n",
        "returns = my_stocks.pct_change()\n",
        "returns"
      ],
      "execution_count": null,
      "outputs": [
        {
          "output_type": "execute_result",
          "data": {
            "text/html": [
              "<div>\n",
              "<style scoped>\n",
              "    .dataframe tbody tr th:only-of-type {\n",
              "        vertical-align: middle;\n",
              "    }\n",
              "\n",
              "    .dataframe tbody tr th {\n",
              "        vertical-align: top;\n",
              "    }\n",
              "\n",
              "    .dataframe thead th {\n",
              "        text-align: right;\n",
              "    }\n",
              "</style>\n",
              "<table border=\"1\" class=\"dataframe\">\n",
              "  <thead>\n",
              "    <tr style=\"text-align: right;\">\n",
              "      <th>Symbols</th>\n",
              "      <th>FB</th>\n",
              "      <th>AMZN</th>\n",
              "      <th>AAPL</th>\n",
              "      <th>NFLX</th>\n",
              "      <th>GOOG</th>\n",
              "    </tr>\n",
              "    <tr>\n",
              "      <th>Date</th>\n",
              "      <th></th>\n",
              "      <th></th>\n",
              "      <th></th>\n",
              "      <th></th>\n",
              "      <th></th>\n",
              "    </tr>\n",
              "  </thead>\n",
              "  <tbody>\n",
              "    <tr>\n",
              "      <th>2013-01-02</th>\n",
              "      <td>NaN</td>\n",
              "      <td>NaN</td>\n",
              "      <td>NaN</td>\n",
              "      <td>NaN</td>\n",
              "      <td>NaN</td>\n",
              "    </tr>\n",
              "    <tr>\n",
              "      <th>2013-01-03</th>\n",
              "      <td>-0.008214</td>\n",
              "      <td>0.004547</td>\n",
              "      <td>-0.012622</td>\n",
              "      <td>0.049777</td>\n",
              "      <td>0.000581</td>\n",
              "    </tr>\n",
              "    <tr>\n",
              "      <th>2013-01-04</th>\n",
              "      <td>0.035650</td>\n",
              "      <td>0.002592</td>\n",
              "      <td>-0.027855</td>\n",
              "      <td>-0.006315</td>\n",
              "      <td>0.019760</td>\n",
              "    </tr>\n",
              "    <tr>\n",
              "      <th>2013-01-07</th>\n",
              "      <td>0.022949</td>\n",
              "      <td>0.035925</td>\n",
              "      <td>-0.005883</td>\n",
              "      <td>0.033549</td>\n",
              "      <td>-0.004363</td>\n",
              "    </tr>\n",
              "    <tr>\n",
              "      <th>2013-01-08</th>\n",
              "      <td>-0.012237</td>\n",
              "      <td>-0.007748</td>\n",
              "      <td>0.002692</td>\n",
              "      <td>-0.020565</td>\n",
              "      <td>-0.001974</td>\n",
              "    </tr>\n",
              "    <tr>\n",
              "      <th>...</th>\n",
              "      <td>...</td>\n",
              "      <td>...</td>\n",
              "      <td>...</td>\n",
              "      <td>...</td>\n",
              "      <td>...</td>\n",
              "    </tr>\n",
              "    <tr>\n",
              "      <th>2020-09-14</th>\n",
              "      <td>-0.001725</td>\n",
              "      <td>-0.004252</td>\n",
              "      <td>0.030000</td>\n",
              "      <td>-0.011970</td>\n",
              "      <td>-0.000947</td>\n",
              "    </tr>\n",
              "    <tr>\n",
              "      <th>2020-09-15</th>\n",
              "      <td>0.023558</td>\n",
              "      <td>0.017132</td>\n",
              "      <td>0.001560</td>\n",
              "      <td>0.041427</td>\n",
              "      <td>0.014586</td>\n",
              "    </tr>\n",
              "    <tr>\n",
              "      <th>2020-09-16</th>\n",
              "      <td>-0.032670</td>\n",
              "      <td>-0.024723</td>\n",
              "      <td>-0.029514</td>\n",
              "      <td>-0.024456</td>\n",
              "      <td>-0.013325</td>\n",
              "    </tr>\n",
              "    <tr>\n",
              "      <th>2020-09-17</th>\n",
              "      <td>-0.033015</td>\n",
              "      <td>-0.022537</td>\n",
              "      <td>-0.015964</td>\n",
              "      <td>-0.028231</td>\n",
              "      <td>-0.016681</td>\n",
              "    </tr>\n",
              "    <tr>\n",
              "      <th>2020-09-18</th>\n",
              "      <td>-0.002433</td>\n",
              "      <td>-0.014571</td>\n",
              "      <td>-0.021479</td>\n",
              "      <td>-0.003541</td>\n",
              "      <td>-0.014680</td>\n",
              "    </tr>\n",
              "  </tbody>\n",
              "</table>\n",
              "<p>1943 rows × 5 columns</p>\n",
              "</div>"
            ],
            "text/plain": [
              "Symbols           FB      AMZN      AAPL      NFLX      GOOG\n",
              "Date                                                        \n",
              "2013-01-02       NaN       NaN       NaN       NaN       NaN\n",
              "2013-01-03 -0.008214  0.004547 -0.012622  0.049777  0.000581\n",
              "2013-01-04  0.035650  0.002592 -0.027855 -0.006315  0.019760\n",
              "2013-01-07  0.022949  0.035925 -0.005883  0.033549 -0.004363\n",
              "2013-01-08 -0.012237 -0.007748  0.002692 -0.020565 -0.001974\n",
              "...              ...       ...       ...       ...       ...\n",
              "2020-09-14 -0.001725 -0.004252  0.030000 -0.011970 -0.000947\n",
              "2020-09-15  0.023558  0.017132  0.001560  0.041427  0.014586\n",
              "2020-09-16 -0.032670 -0.024723 -0.029514 -0.024456 -0.013325\n",
              "2020-09-17 -0.033015 -0.022537 -0.015964 -0.028231 -0.016681\n",
              "2020-09-18 -0.002433 -0.014571 -0.021479 -0.003541 -0.014680\n",
              "\n",
              "[1943 rows x 5 columns]"
            ]
          },
          "metadata": {
            "tags": []
          },
          "execution_count": 9
        }
      ]
    },
    {
      "cell_type": "code",
      "metadata": {
        "id": "5d1R8CnT4oVr",
        "outputId": "43b23aa3-56ab-4c2f-9611-1b4ed484420b"
      },
      "source": [
        "#create and show the annualized covariance matrix\n",
        "cov_matrix_annual = returns.cov() * 252\n",
        "cov_matrix_annual"
      ],
      "execution_count": null,
      "outputs": [
        {
          "output_type": "execute_result",
          "data": {
            "text/html": [
              "<div>\n",
              "<style scoped>\n",
              "    .dataframe tbody tr th:only-of-type {\n",
              "        vertical-align: middle;\n",
              "    }\n",
              "\n",
              "    .dataframe tbody tr th {\n",
              "        vertical-align: top;\n",
              "    }\n",
              "\n",
              "    .dataframe thead th {\n",
              "        text-align: right;\n",
              "    }\n",
              "</style>\n",
              "<table border=\"1\" class=\"dataframe\">\n",
              "  <thead>\n",
              "    <tr style=\"text-align: right;\">\n",
              "      <th>Symbols</th>\n",
              "      <th>FB</th>\n",
              "      <th>AMZN</th>\n",
              "      <th>AAPL</th>\n",
              "      <th>NFLX</th>\n",
              "      <th>GOOG</th>\n",
              "    </tr>\n",
              "    <tr>\n",
              "      <th>Symbols</th>\n",
              "      <th></th>\n",
              "      <th></th>\n",
              "      <th></th>\n",
              "      <th></th>\n",
              "      <th></th>\n",
              "    </tr>\n",
              "  </thead>\n",
              "  <tbody>\n",
              "    <tr>\n",
              "      <th>FB</th>\n",
              "      <td>0.118124</td>\n",
              "      <td>0.053559</td>\n",
              "      <td>0.043239</td>\n",
              "      <td>0.056432</td>\n",
              "      <td>0.049598</td>\n",
              "    </tr>\n",
              "    <tr>\n",
              "      <th>AMZN</th>\n",
              "      <td>0.053559</td>\n",
              "      <td>0.093179</td>\n",
              "      <td>0.037898</td>\n",
              "      <td>0.062538</td>\n",
              "      <td>0.047472</td>\n",
              "    </tr>\n",
              "    <tr>\n",
              "      <th>AAPL</th>\n",
              "      <td>0.043239</td>\n",
              "      <td>0.037898</td>\n",
              "      <td>0.080190</td>\n",
              "      <td>0.033648</td>\n",
              "      <td>0.038067</td>\n",
              "    </tr>\n",
              "    <tr>\n",
              "      <th>NFLX</th>\n",
              "      <td>0.056432</td>\n",
              "      <td>0.062538</td>\n",
              "      <td>0.033648</td>\n",
              "      <td>0.212791</td>\n",
              "      <td>0.049758</td>\n",
              "    </tr>\n",
              "    <tr>\n",
              "      <th>GOOG</th>\n",
              "      <td>0.049598</td>\n",
              "      <td>0.047472</td>\n",
              "      <td>0.038067</td>\n",
              "      <td>0.049758</td>\n",
              "      <td>0.065494</td>\n",
              "    </tr>\n",
              "  </tbody>\n",
              "</table>\n",
              "</div>"
            ],
            "text/plain": [
              "Symbols        FB      AMZN      AAPL      NFLX      GOOG\n",
              "Symbols                                                  \n",
              "FB       0.118124  0.053559  0.043239  0.056432  0.049598\n",
              "AMZN     0.053559  0.093179  0.037898  0.062538  0.047472\n",
              "AAPL     0.043239  0.037898  0.080190  0.033648  0.038067\n",
              "NFLX     0.056432  0.062538  0.033648  0.212791  0.049758\n",
              "GOOG     0.049598  0.047472  0.038067  0.049758  0.065494"
            ]
          },
          "metadata": {
            "tags": []
          },
          "execution_count": 10
        }
      ]
    },
    {
      "cell_type": "code",
      "metadata": {
        "id": "D5ZpRXRg4oVs",
        "outputId": "6224a5e7-f78a-4e2f-d4dd-50292058c9ad"
      },
      "source": [
        "#calculate the portfolio varaiance \n",
        "port_variance = np.dot(weights.T, np.dot(cov_matrix_annual,weights))\n",
        "port_variance"
      ],
      "execution_count": null,
      "outputs": [
        {
          "output_type": "execute_result",
          "data": {
            "text/plain": [
              "0.06056777860914923"
            ]
          },
          "metadata": {
            "tags": []
          },
          "execution_count": 11
        }
      ]
    },
    {
      "cell_type": "code",
      "metadata": {
        "id": "mjHWhlrB4oVt",
        "outputId": "92110fcf-2d09-4c47-9bc6-18f91b2b0e24"
      },
      "source": [
        "# Calculate the portfolio volatility aka standard Deviation \n",
        "port_volatility = np.sqrt(port_variance)\n",
        "port_volatility"
      ],
      "execution_count": null,
      "outputs": [
        {
          "output_type": "execute_result",
          "data": {
            "text/plain": [
              "0.24610521857357928"
            ]
          },
          "metadata": {
            "tags": []
          },
          "execution_count": 12
        }
      ]
    },
    {
      "cell_type": "code",
      "metadata": {
        "id": "FEknW_Mm4oVu",
        "outputId": "4eced758-b3bc-4ebf-ee1b-bf2ac5c2e976"
      },
      "source": [
        "#Calculate the annual portfolio return\n",
        "portfolioSimpleAnnualReturn = np.sum(returns.mean() * weights) *252\n",
        "portfolioSimpleAnnualReturn"
      ],
      "execution_count": null,
      "outputs": [
        {
          "output_type": "execute_result",
          "data": {
            "text/plain": [
              "0.35399321754819124"
            ]
          },
          "metadata": {
            "tags": []
          },
          "execution_count": 13
        }
      ]
    },
    {
      "cell_type": "code",
      "metadata": {
        "id": "RZJ4H53S4oVu",
        "outputId": "7e9a9848-aa06-4a43-f7a0-9f8c264c6b0a"
      },
      "source": [
        "#Show the expected annual return, volatility (risk), and variance\n",
        "\n",
        "percent_variance = str(round(port_variance, 2)*100) +'%'\n",
        "percent_volatility = str(round(port_volatility, 2) * 100 ) + '%'\n",
        "percent_return = str(round(portfolioSimpleAnnualReturn, 2) * 100 ) + '%'\n",
        "\n",
        "print('Expected annual return: '+ percent_return)\n",
        "print('Annual volatility / risk: '+ percent_volatility )\n",
        "print('Annual Variance: '+ percent_variance)"
      ],
      "execution_count": null,
      "outputs": [
        {
          "output_type": "stream",
          "text": [
            "Expected annual return: 35.0%\n",
            "Annual volatility / risk: 25.0%\n",
            "Annual Variance: 6.0%\n"
          ],
          "name": "stdout"
        }
      ]
    },
    {
      "cell_type": "code",
      "metadata": {
        "id": "KV08mWv34oVv",
        "outputId": "e521e4d4-14c7-4119-ef3f-2793853f8093"
      },
      "source": [
        "from pypfopt.efficient_frontier import EfficientFrontier\n",
        "from pypfopt import risk_models\n",
        "from pypfopt import expected_returns"
      ],
      "execution_count": null,
      "outputs": [
        {
          "output_type": "error",
          "ename": "ModuleNotFoundError",
          "evalue": "No module named 'pypfopt'",
          "traceback": [
            "\u001b[1;31m---------------------------------------------------------------------------\u001b[0m",
            "\u001b[1;31mModuleNotFoundError\u001b[0m                       Traceback (most recent call last)",
            "\u001b[1;32m<ipython-input-16-d56be5e8137d>\u001b[0m in \u001b[0;36m<module>\u001b[1;34m\u001b[0m\n\u001b[1;32m----> 1\u001b[1;33m \u001b[1;32mfrom\u001b[0m \u001b[0mpypfopt\u001b[0m\u001b[1;33m.\u001b[0m\u001b[0mefficient_frontier\u001b[0m \u001b[1;32mimport\u001b[0m \u001b[0mEfficientFrontier\u001b[0m\u001b[1;33m\u001b[0m\u001b[1;33m\u001b[0m\u001b[0m\n\u001b[0m\u001b[0;32m      2\u001b[0m \u001b[1;32mfrom\u001b[0m \u001b[0mpypfopt\u001b[0m \u001b[1;32mimport\u001b[0m \u001b[0mrisk_models\u001b[0m\u001b[1;33m\u001b[0m\u001b[1;33m\u001b[0m\u001b[0m\n\u001b[0;32m      3\u001b[0m \u001b[1;32mfrom\u001b[0m \u001b[0mpypfopt\u001b[0m \u001b[1;32mimport\u001b[0m \u001b[0mexpected_returns\u001b[0m\u001b[1;33m\u001b[0m\u001b[1;33m\u001b[0m\u001b[0m\n",
            "\u001b[1;31mModuleNotFoundError\u001b[0m: No module named 'pypfopt'"
          ]
        }
      ]
    },
    {
      "cell_type": "code",
      "metadata": {
        "id": "kBwsp0Yr4oVw",
        "outputId": "6d92d316-86b2-41ac-8953-c92312dc1ffc"
      },
      "source": [
        "#Portfolio Optimization !\n",
        "\n",
        "#Calcualte the expected returns and the annualised sample caovariance matrix of asset returns\n",
        "mu = expected_returns.mean_historical_return(my_stocks)\n",
        "S = risk.models.sample_cov()\n",
        "\n",
        "#optimize for max sharpe ratio (a way to describe how much excess return you receive for some amount of volatility)\n",
        "#measures the performance of an investment compared to an investment that is risk free (such as bonds or treasury deals)\n",
        "\n",
        "#optimize for max sharpe ratio\n",
        "ef - efficientFrontier(mu, S)\n",
        "weights = ef.max_sharpe()\n",
        "\n",
        "#cleaning \n",
        "cleaned_weights = ef.clean_weights() #helper method to clean raw weights. \n",
        "                                    #Sets weights that absolute value below some cut off value. \n",
        "                                    #Once it changes those values to zero, it the round the rest of the values\n",
        "print(cleaned_weights)\n",
        "ef.portfolio_performance(verbose = True)\n"
      ],
      "execution_count": null,
      "outputs": [
        {
          "output_type": "error",
          "ename": "NameError",
          "evalue": "name 'expected_returns' is not defined",
          "traceback": [
            "\u001b[1;31m---------------------------------------------------------------------------\u001b[0m",
            "\u001b[1;31mNameError\u001b[0m                                 Traceback (most recent call last)",
            "\u001b[1;32m<ipython-input-17-e0391b8661d2>\u001b[0m in \u001b[0;36m<module>\u001b[1;34m\u001b[0m\n\u001b[0;32m      2\u001b[0m \u001b[1;33m\u001b[0m\u001b[0m\n\u001b[0;32m      3\u001b[0m \u001b[1;31m#Calcualte the expected returns and the annualised sample caovariance matrix of asset returns\u001b[0m\u001b[1;33m\u001b[0m\u001b[1;33m\u001b[0m\u001b[1;33m\u001b[0m\u001b[0m\n\u001b[1;32m----> 4\u001b[1;33m \u001b[0mmu\u001b[0m \u001b[1;33m=\u001b[0m \u001b[0mexpected_returns\u001b[0m\u001b[1;33m.\u001b[0m\u001b[0mmean_historical_return\u001b[0m\u001b[1;33m(\u001b[0m\u001b[0mmy_stocks\u001b[0m\u001b[1;33m)\u001b[0m\u001b[1;33m\u001b[0m\u001b[1;33m\u001b[0m\u001b[0m\n\u001b[0m\u001b[0;32m      5\u001b[0m \u001b[0mS\u001b[0m \u001b[1;33m=\u001b[0m \u001b[0mrisk\u001b[0m\u001b[1;33m.\u001b[0m\u001b[0mmodels\u001b[0m\u001b[1;33m.\u001b[0m\u001b[0msample_cov\u001b[0m\u001b[1;33m(\u001b[0m\u001b[1;33m)\u001b[0m\u001b[1;33m\u001b[0m\u001b[1;33m\u001b[0m\u001b[0m\n\u001b[0;32m      6\u001b[0m \u001b[1;33m\u001b[0m\u001b[0m\n",
            "\u001b[1;31mNameError\u001b[0m: name 'expected_returns' is not defined"
          ]
        }
      ]
    },
    {
      "cell_type": "code",
      "metadata": {
        "id": "MVix2gTh4oVx",
        "outputId": "7aff163a-5071-4c44-9533-6c413b6040b2"
      },
      "source": [
        "#Get discrete allocation of each share per stock\n",
        "from pyfopt.discrete_allocation import DiscreteAllocatio, get_latest_prices\n",
        "\n",
        "latest = get_latest_prices(my_stocks)\n",
        "weights = cleaned_weights\n",
        "da = DiscreteAllocation(weights, latest_prices, total_portfolio_value = 15000)\n",
        "\n",
        "allocation , leftover = da.lp_portfolio()\n",
        "print('Discrete allocation:', allocation)\n",
        "print('Funds remaining: ${:.2f'}.format(leftover)')"
      ],
      "execution_count": null,
      "outputs": [
        {
          "output_type": "error",
          "ename": "SyntaxError",
          "evalue": "invalid syntax (<ipython-input-18-74b89e0e3000>, line 10)",
          "traceback": [
            "\u001b[1;36m  File \u001b[1;32m\"<ipython-input-18-74b89e0e3000>\"\u001b[1;36m, line \u001b[1;32m10\u001b[0m\n\u001b[1;33m    print('Funds remaining: ${:.2f'}.format(leftover)')\u001b[0m\n\u001b[1;37m                                   ^\u001b[0m\n\u001b[1;31mSyntaxError\u001b[0m\u001b[1;31m:\u001b[0m invalid syntax\n"
          ]
        }
      ]
    },
    {
      "cell_type": "code",
      "metadata": {
        "id": "cld3yjBC4oVy"
      },
      "source": [
        ""
      ],
      "execution_count": null,
      "outputs": []
    }
  ]
}