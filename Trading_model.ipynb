{
  "nbformat": 4,
  "nbformat_minor": 0,
  "metadata": {
    "colab": {
      "name": "Trading_model.ipynb",
      "provenance": [],
      "authorship_tag": "ABX9TyNQbfoPFbLnNpac1iMWZ8Cm",
      "include_colab_link": true
    },
    "kernelspec": {
      "name": "python3",
      "display_name": "Python 3"
    }
  },
  "cells": [
    {
      "cell_type": "markdown",
      "metadata": {
        "id": "view-in-github",
        "colab_type": "text"
      },
      "source": [
        "<a href=\"https://colab.research.google.com/github/Jonnytan555/ML_for_Finance/blob/main/Trading_model.ipynb\" target=\"_parent\"><img src=\"https://colab.research.google.com/assets/colab-badge.svg\" alt=\"Open In Colab\"/></a>"
      ]
    },
    {
      "cell_type": "code",
      "metadata": {
        "id": "plBG37XTj-9e"
      },
      "source": [
        "import pandas as pd\n",
        "%matplotlib inline"
      ],
      "execution_count": null,
      "outputs": []
    },
    {
      "cell_type": "code",
      "metadata": {
        "id": "ECWydZO1En4T"
      },
      "source": [
        "df = pd.read_csv('Facebook.csv')"
      ],
      "execution_count": null,
      "outputs": []
    },
    {
      "cell_type": "code",
      "metadata": {
        "id": "tK8etZ69FOzQ"
      },
      "source": [
        "df = pd.read_csv('Facebook.csv')\n",
        "df.columns = df.columns.str.strip()\n",
        "df = df[['ref.date','price.close']] #only need closed price and date"
      ],
      "execution_count": null,
      "outputs": []
    },
    {
      "cell_type": "code",
      "metadata": {
        "id": "nrWPKVkSFAoI",
        "colab": {
          "base_uri": "https://localhost:8080/",
          "height": 359
        },
        "outputId": "0c9cbae0-8853-41e2-8410-b290b5c78635"
      },
      "source": [
        "df.head(10)"
      ],
      "execution_count": null,
      "outputs": [
        {
          "output_type": "execute_result",
          "data": {
            "text/html": [
              "<div>\n",
              "<style scoped>\n",
              "    .dataframe tbody tr th:only-of-type {\n",
              "        vertical-align: middle;\n",
              "    }\n",
              "\n",
              "    .dataframe tbody tr th {\n",
              "        vertical-align: top;\n",
              "    }\n",
              "\n",
              "    .dataframe thead th {\n",
              "        text-align: right;\n",
              "    }\n",
              "</style>\n",
              "<table border=\"1\" class=\"dataframe\">\n",
              "  <thead>\n",
              "    <tr style=\"text-align: right;\">\n",
              "      <th></th>\n",
              "      <th>ref.date</th>\n",
              "      <th>price.close</th>\n",
              "    </tr>\n",
              "  </thead>\n",
              "  <tbody>\n",
              "    <tr>\n",
              "      <th>0</th>\n",
              "      <td>17/08/2018</td>\n",
              "      <td>173.800003</td>\n",
              "    </tr>\n",
              "    <tr>\n",
              "      <th>1</th>\n",
              "      <td>16/08/2018</td>\n",
              "      <td>174.699997</td>\n",
              "    </tr>\n",
              "    <tr>\n",
              "      <th>2</th>\n",
              "      <td>15/08/2018</td>\n",
              "      <td>179.529999</td>\n",
              "    </tr>\n",
              "    <tr>\n",
              "      <th>3</th>\n",
              "      <td>14/08/2018</td>\n",
              "      <td>181.110001</td>\n",
              "    </tr>\n",
              "    <tr>\n",
              "      <th>4</th>\n",
              "      <td>13/08/2018</td>\n",
              "      <td>180.050003</td>\n",
              "    </tr>\n",
              "    <tr>\n",
              "      <th>5</th>\n",
              "      <td>10/08/2018</td>\n",
              "      <td>180.259995</td>\n",
              "    </tr>\n",
              "    <tr>\n",
              "      <th>6</th>\n",
              "      <td>09/08/2018</td>\n",
              "      <td>183.089996</td>\n",
              "    </tr>\n",
              "    <tr>\n",
              "      <th>7</th>\n",
              "      <td>08/08/2018</td>\n",
              "      <td>185.179993</td>\n",
              "    </tr>\n",
              "    <tr>\n",
              "      <th>8</th>\n",
              "      <td>07/08/2018</td>\n",
              "      <td>183.809998</td>\n",
              "    </tr>\n",
              "    <tr>\n",
              "      <th>9</th>\n",
              "      <td>06/08/2018</td>\n",
              "      <td>185.690002</td>\n",
              "    </tr>\n",
              "  </tbody>\n",
              "</table>\n",
              "</div>"
            ],
            "text/plain": [
              "     ref.date  price.close\n",
              "0  17/08/2018   173.800003\n",
              "1  16/08/2018   174.699997\n",
              "2  15/08/2018   179.529999\n",
              "3  14/08/2018   181.110001\n",
              "4  13/08/2018   180.050003\n",
              "5  10/08/2018   180.259995\n",
              "6  09/08/2018   183.089996\n",
              "7  08/08/2018   185.179993\n",
              "8  07/08/2018   183.809998\n",
              "9  06/08/2018   185.690002"
            ]
          },
          "metadata": {
            "tags": []
          },
          "execution_count": 10
        }
      ]
    },
    {
      "cell_type": "code",
      "metadata": {
        "id": "nWFTTQN_FCYd",
        "colab": {
          "base_uri": "https://localhost:8080/",
          "height": 419
        },
        "outputId": "93fd6ea5-6dab-40d5-f497-47dbc7785c7f"
      },
      "source": [
        "#Part 2: Calculate the inputs that go into the model like the 200sma and 50sma\n",
        "\n",
        "df['% change'] = df['price.close'].pct_change() #daily percent change\n",
        "df['200 sma'] = df['price.close'].rolling(window=200).mean().round(5) #200 day moving average\n",
        "df['50 sma'] = df['price.close'].rolling(window=50).mean().round(5) #200 day moving average\n"
      ],
      "execution_count": null,
      "outputs": [
        {
          "output_type": "execute_result",
          "data": {
            "text/html": [
              "<div>\n",
              "<style scoped>\n",
              "    .dataframe tbody tr th:only-of-type {\n",
              "        vertical-align: middle;\n",
              "    }\n",
              "\n",
              "    .dataframe tbody tr th {\n",
              "        vertical-align: top;\n",
              "    }\n",
              "\n",
              "    .dataframe thead th {\n",
              "        text-align: right;\n",
              "    }\n",
              "</style>\n",
              "<table border=\"1\" class=\"dataframe\">\n",
              "  <thead>\n",
              "    <tr style=\"text-align: right;\">\n",
              "      <th></th>\n",
              "      <th>ref.date</th>\n",
              "      <th>price.close</th>\n",
              "      <th>% change</th>\n",
              "      <th>200 sma</th>\n",
              "      <th>50 sma</th>\n",
              "    </tr>\n",
              "  </thead>\n",
              "  <tbody>\n",
              "    <tr>\n",
              "      <th>0</th>\n",
              "      <td>17/08/2018</td>\n",
              "      <td>173.800003</td>\n",
              "      <td>NaN</td>\n",
              "      <td>NaN</td>\n",
              "      <td>NaN</td>\n",
              "    </tr>\n",
              "    <tr>\n",
              "      <th>1</th>\n",
              "      <td>16/08/2018</td>\n",
              "      <td>174.699997</td>\n",
              "      <td>0.005178</td>\n",
              "      <td>NaN</td>\n",
              "      <td>NaN</td>\n",
              "    </tr>\n",
              "    <tr>\n",
              "      <th>2</th>\n",
              "      <td>15/08/2018</td>\n",
              "      <td>179.529999</td>\n",
              "      <td>0.027647</td>\n",
              "      <td>NaN</td>\n",
              "      <td>NaN</td>\n",
              "    </tr>\n",
              "    <tr>\n",
              "      <th>3</th>\n",
              "      <td>14/08/2018</td>\n",
              "      <td>181.110001</td>\n",
              "      <td>0.008801</td>\n",
              "      <td>NaN</td>\n",
              "      <td>NaN</td>\n",
              "    </tr>\n",
              "    <tr>\n",
              "      <th>4</th>\n",
              "      <td>13/08/2018</td>\n",
              "      <td>180.050003</td>\n",
              "      <td>-0.005853</td>\n",
              "      <td>NaN</td>\n",
              "      <td>NaN</td>\n",
              "    </tr>\n",
              "    <tr>\n",
              "      <th>...</th>\n",
              "      <td>...</td>\n",
              "      <td>...</td>\n",
              "      <td>...</td>\n",
              "      <td>...</td>\n",
              "      <td>...</td>\n",
              "    </tr>\n",
              "    <tr>\n",
              "      <th>247</th>\n",
              "      <td>24/08/2017</td>\n",
              "      <td>167.740005</td>\n",
              "      <td>0.008538</td>\n",
              "      <td>176.57620</td>\n",
              "      <td>171.9478</td>\n",
              "    </tr>\n",
              "    <tr>\n",
              "      <th>248</th>\n",
              "      <td>23/08/2017</td>\n",
              "      <td>168.710007</td>\n",
              "      <td>0.005783</td>\n",
              "      <td>176.46205</td>\n",
              "      <td>171.7436</td>\n",
              "    </tr>\n",
              "    <tr>\n",
              "      <th>249</th>\n",
              "      <td>22/08/2017</td>\n",
              "      <td>169.639999</td>\n",
              "      <td>0.005512</td>\n",
              "      <td>176.36475</td>\n",
              "      <td>171.4832</td>\n",
              "    </tr>\n",
              "    <tr>\n",
              "      <th>250</th>\n",
              "      <td>21/08/2017</td>\n",
              "      <td>167.779999</td>\n",
              "      <td>-0.010964</td>\n",
              "      <td>176.26275</td>\n",
              "      <td>171.2376</td>\n",
              "    </tr>\n",
              "    <tr>\n",
              "      <th>251</th>\n",
              "      <td>18/08/2017</td>\n",
              "      <td>167.410004</td>\n",
              "      <td>-0.002205</td>\n",
              "      <td>176.14310</td>\n",
              "      <td>170.9884</td>\n",
              "    </tr>\n",
              "  </tbody>\n",
              "</table>\n",
              "<p>252 rows × 5 columns</p>\n",
              "</div>"
            ],
            "text/plain": [
              "       ref.date  price.close  % change    200 sma    50 sma\n",
              "0    17/08/2018   173.800003       NaN        NaN       NaN\n",
              "1    16/08/2018   174.699997  0.005178        NaN       NaN\n",
              "2    15/08/2018   179.529999  0.027647        NaN       NaN\n",
              "3    14/08/2018   181.110001  0.008801        NaN       NaN\n",
              "4    13/08/2018   180.050003 -0.005853        NaN       NaN\n",
              "..          ...          ...       ...        ...       ...\n",
              "247  24/08/2017   167.740005  0.008538  176.57620  171.9478\n",
              "248  23/08/2017   168.710007  0.005783  176.46205  171.7436\n",
              "249  22/08/2017   169.639999  0.005512  176.36475  171.4832\n",
              "250  21/08/2017   167.779999 -0.010964  176.26275  171.2376\n",
              "251  18/08/2017   167.410004 -0.002205  176.14310  170.9884\n",
              "\n",
              "[252 rows x 5 columns]"
            ]
          },
          "metadata": {
            "tags": []
          },
          "execution_count": 18
        }
      ]
    },
    {
      "cell_type": "code",
      "metadata": {
        "id": "RSM2MYaGGsFC",
        "colab": {
          "base_uri": "https://localhost:8080/",
          "height": 204
        },
        "outputId": "3691c935-d5e8-46c6-8099-447a6b304b45"
      },
      "source": [
        "#Part 3: Set Models Criteria\n",
        "\n",
        "df['Criteria 1'] = df['price.close'] >= df['200 sma']\n",
        "df['Criteria 2'] = (df['50 sma'] >= df['200 sma']) | df['Criteria 1'] == True\n",
        "\n",
        "df.head()"
      ],
      "execution_count": null,
      "outputs": [
        {
          "output_type": "execute_result",
          "data": {
            "text/html": [
              "<div>\n",
              "<style scoped>\n",
              "    .dataframe tbody tr th:only-of-type {\n",
              "        vertical-align: middle;\n",
              "    }\n",
              "\n",
              "    .dataframe tbody tr th {\n",
              "        vertical-align: top;\n",
              "    }\n",
              "\n",
              "    .dataframe thead th {\n",
              "        text-align: right;\n",
              "    }\n",
              "</style>\n",
              "<table border=\"1\" class=\"dataframe\">\n",
              "  <thead>\n",
              "    <tr style=\"text-align: right;\">\n",
              "      <th></th>\n",
              "      <th>ref.date</th>\n",
              "      <th>price.close</th>\n",
              "      <th>% change</th>\n",
              "      <th>200 sma</th>\n",
              "      <th>50 sma</th>\n",
              "      <th>Criteria 1</th>\n",
              "      <th>Criteria 2</th>\n",
              "    </tr>\n",
              "  </thead>\n",
              "  <tbody>\n",
              "    <tr>\n",
              "      <th>0</th>\n",
              "      <td>17/08/2018</td>\n",
              "      <td>173.800003</td>\n",
              "      <td>NaN</td>\n",
              "      <td>NaN</td>\n",
              "      <td>NaN</td>\n",
              "      <td>False</td>\n",
              "      <td>False</td>\n",
              "    </tr>\n",
              "    <tr>\n",
              "      <th>1</th>\n",
              "      <td>16/08/2018</td>\n",
              "      <td>174.699997</td>\n",
              "      <td>0.005178</td>\n",
              "      <td>NaN</td>\n",
              "      <td>NaN</td>\n",
              "      <td>False</td>\n",
              "      <td>False</td>\n",
              "    </tr>\n",
              "    <tr>\n",
              "      <th>2</th>\n",
              "      <td>15/08/2018</td>\n",
              "      <td>179.529999</td>\n",
              "      <td>0.027647</td>\n",
              "      <td>NaN</td>\n",
              "      <td>NaN</td>\n",
              "      <td>False</td>\n",
              "      <td>False</td>\n",
              "    </tr>\n",
              "    <tr>\n",
              "      <th>3</th>\n",
              "      <td>14/08/2018</td>\n",
              "      <td>181.110001</td>\n",
              "      <td>0.008801</td>\n",
              "      <td>NaN</td>\n",
              "      <td>NaN</td>\n",
              "      <td>False</td>\n",
              "      <td>False</td>\n",
              "    </tr>\n",
              "    <tr>\n",
              "      <th>4</th>\n",
              "      <td>13/08/2018</td>\n",
              "      <td>180.050003</td>\n",
              "      <td>-0.005853</td>\n",
              "      <td>NaN</td>\n",
              "      <td>NaN</td>\n",
              "      <td>False</td>\n",
              "      <td>False</td>\n",
              "    </tr>\n",
              "  </tbody>\n",
              "</table>\n",
              "</div>"
            ],
            "text/plain": [
              "     ref.date  price.close  % change  200 sma  50 sma  Criteria 1  Criteria 2\n",
              "0  17/08/2018   173.800003       NaN      NaN     NaN       False       False\n",
              "1  16/08/2018   174.699997  0.005178      NaN     NaN       False       False\n",
              "2  15/08/2018   179.529999  0.027647      NaN     NaN       False       False\n",
              "3  14/08/2018   181.110001  0.008801      NaN     NaN       False       False\n",
              "4  13/08/2018   180.050003 -0.005853      NaN     NaN       False       False"
            ]
          },
          "metadata": {
            "tags": []
          },
          "execution_count": 20
        }
      ]
    },
    {
      "cell_type": "code",
      "metadata": {
        "id": "SvnPPEzfIAOw",
        "colab": {
          "base_uri": "https://localhost:8080/",
          "height": 258
        },
        "outputId": "c60b0c83-4f94-431d-fe05-c8429482d748"
      },
      "source": [
        "#Part 4: Calculate the models \n",
        "\n",
        "#Buy and hold chnages over time keeping 100 as the starting point\n",
        "df['Buy and hold'] = 100*(1+df['% change']).cumprod()\n",
        "\n",
        "#model 1 changes based on whether the models criteria is met or not\n",
        "df['200 sma model'] = 100*(1+df['Criteria 1'].shift(1)*df['% change']).cumprod()\n",
        "\n",
        "#model 2 changes based on whether the models criteria is met or not\n",
        "df['200 sma + crossover model'] = 100*(1+df['Criteria 2'].shift(1)*df['% change']).cumprod()\n",
        "df.head()"
      ],
      "execution_count": null,
      "outputs": [
        {
          "output_type": "execute_result",
          "data": {
            "text/html": [
              "<div>\n",
              "<style scoped>\n",
              "    .dataframe tbody tr th:only-of-type {\n",
              "        vertical-align: middle;\n",
              "    }\n",
              "\n",
              "    .dataframe tbody tr th {\n",
              "        vertical-align: top;\n",
              "    }\n",
              "\n",
              "    .dataframe thead th {\n",
              "        text-align: right;\n",
              "    }\n",
              "</style>\n",
              "<table border=\"1\" class=\"dataframe\">\n",
              "  <thead>\n",
              "    <tr style=\"text-align: right;\">\n",
              "      <th></th>\n",
              "      <th>ref.date</th>\n",
              "      <th>price.close</th>\n",
              "      <th>% change</th>\n",
              "      <th>200 sma</th>\n",
              "      <th>50 sma</th>\n",
              "      <th>Criteria 1</th>\n",
              "      <th>Criteria 2</th>\n",
              "      <th>Buy and hold</th>\n",
              "      <th>200 sna model</th>\n",
              "      <th>200 sna + crossover model</th>\n",
              "      <th>200 sma model</th>\n",
              "      <th>200 sma + crossover model</th>\n",
              "    </tr>\n",
              "  </thead>\n",
              "  <tbody>\n",
              "    <tr>\n",
              "      <th>0</th>\n",
              "      <td>17/08/2018</td>\n",
              "      <td>173.800003</td>\n",
              "      <td>NaN</td>\n",
              "      <td>NaN</td>\n",
              "      <td>NaN</td>\n",
              "      <td>False</td>\n",
              "      <td>False</td>\n",
              "      <td>NaN</td>\n",
              "      <td>NaN</td>\n",
              "      <td>NaN</td>\n",
              "      <td>NaN</td>\n",
              "      <td>NaN</td>\n",
              "    </tr>\n",
              "    <tr>\n",
              "      <th>1</th>\n",
              "      <td>16/08/2018</td>\n",
              "      <td>174.699997</td>\n",
              "      <td>0.005178</td>\n",
              "      <td>NaN</td>\n",
              "      <td>NaN</td>\n",
              "      <td>False</td>\n",
              "      <td>False</td>\n",
              "      <td>100.517833</td>\n",
              "      <td>100</td>\n",
              "      <td>100</td>\n",
              "      <td>100</td>\n",
              "      <td>100</td>\n",
              "    </tr>\n",
              "    <tr>\n",
              "      <th>2</th>\n",
              "      <td>15/08/2018</td>\n",
              "      <td>179.529999</td>\n",
              "      <td>0.027647</td>\n",
              "      <td>NaN</td>\n",
              "      <td>NaN</td>\n",
              "      <td>False</td>\n",
              "      <td>False</td>\n",
              "      <td>103.296891</td>\n",
              "      <td>100</td>\n",
              "      <td>100</td>\n",
              "      <td>100</td>\n",
              "      <td>100</td>\n",
              "    </tr>\n",
              "    <tr>\n",
              "      <th>3</th>\n",
              "      <td>14/08/2018</td>\n",
              "      <td>181.110001</td>\n",
              "      <td>0.008801</td>\n",
              "      <td>NaN</td>\n",
              "      <td>NaN</td>\n",
              "      <td>False</td>\n",
              "      <td>False</td>\n",
              "      <td>104.205983</td>\n",
              "      <td>100</td>\n",
              "      <td>100</td>\n",
              "      <td>100</td>\n",
              "      <td>100</td>\n",
              "    </tr>\n",
              "    <tr>\n",
              "      <th>4</th>\n",
              "      <td>13/08/2018</td>\n",
              "      <td>180.050003</td>\n",
              "      <td>-0.005853</td>\n",
              "      <td>NaN</td>\n",
              "      <td>NaN</td>\n",
              "      <td>False</td>\n",
              "      <td>False</td>\n",
              "      <td>103.596087</td>\n",
              "      <td>100</td>\n",
              "      <td>100</td>\n",
              "      <td>100</td>\n",
              "      <td>100</td>\n",
              "    </tr>\n",
              "  </tbody>\n",
              "</table>\n",
              "</div>"
            ],
            "text/plain": [
              "     ref.date  price.close  ...  200 sma model  200 sma + crossover model\n",
              "0  17/08/2018   173.800003  ...            NaN                        NaN\n",
              "1  16/08/2018   174.699997  ...            100                        100\n",
              "2  15/08/2018   179.529999  ...            100                        100\n",
              "3  14/08/2018   181.110001  ...            100                        100\n",
              "4  13/08/2018   180.050003  ...            100                        100\n",
              "\n",
              "[5 rows x 12 columns]"
            ]
          },
          "metadata": {
            "tags": []
          },
          "execution_count": 26
        }
      ]
    },
    {
      "cell_type": "code",
      "metadata": {
        "id": "ppCiVgNKJFHi",
        "colab": {
          "base_uri": "https://localhost:8080/"
        },
        "outputId": "52114361-c146-425f-a1aa-c0c1a104e540"
      },
      "source": [
        "#Part 5: Calculate the model's returns\n",
        "\n",
        "#200 sma model's return \n",
        "start_model1 = df['200 sma model'].iloc[200]# we did 200 calulations earlier, values only start from 200th position\n",
        "end_model1 = df['200 sma model'].iloc[-1] # last value in column \n",
        "years = (df['200 sma model'].count()+1-200)/252 # number of years we are calculating on. Takes into account 252 trading days\n",
        "model1_average_returns = (end_model1/start_model1)**(1/years)-1 # model average returns\n",
        "print('200 sma model yields and average of', model1_average_returns*100, '% per year')\n",
        "\n",
        "#200 sma + crossover model's return \n",
        "start_model2 = df['200 sma + crossover model'].iloc[200]# we did 200 calulations earlier, values only start from 200th position\n",
        "end_model2 = df['200 sma + crossover model'].iloc[-1] # last value in column \n",
        "model2_average_returns = (end_model2/start_model2)**(1/years)-1 # model average returns\n",
        "print('200 sma + crossover model yields and average of', model2_average_returns*100, '% per year')\n",
        "\n",
        "#buy and hold's return \n",
        "start_spx = df['price.close'].iloc[200]# we did 200 calulations earlier, values only start from 200th position\n",
        "end_spx = df['price.close'].iloc[-1] # last value in column \n",
        "spx_average_returns = (end_spx/start_spx)**(1/years)-1 # model average returns\n",
        "print('spx model yields and average of', spx_average_returns*100, '% per year')"
      ],
      "execution_count": null,
      "outputs": [
        {
          "output_type": "stream",
          "text": [
            "200 sma model yields and average of 0.0 % per year\n",
            "200 sma + crossover model yields and average of 0.0 % per year\n",
            "spx model yields and average of -29.743278400536475 % per year\n"
          ],
          "name": "stdout"
        }
      ]
    },
    {
      "cell_type": "code",
      "metadata": {
        "id": "upKQxRkTLSr0",
        "colab": {
          "base_uri": "https://localhost:8080/",
          "height": 298
        },
        "outputId": "6513e975-4e43-44bd-da4e-bf35cab874b8"
      },
      "source": [
        "#Part 6: Plot the models\n",
        "\n",
        "df[['Buy and hold', '200 sma model', '200 sma + crossover model']].plot(grid=True, kind = 'line', title='Different Models')"
      ],
      "execution_count": null,
      "outputs": [
        {
          "output_type": "execute_result",
          "data": {
            "text/plain": [
              "<matplotlib.axes._subplots.AxesSubplot at 0x7f82a70a44e0>"
            ]
          },
          "metadata": {
            "tags": []
          },
          "execution_count": 33
        },
        {
          "output_type": "display_data",
          "data": {
            "image/png": "[encoded data removed]",
            "text/plain": [
              "<Figure size 432x288 with 1 Axes>"
            ]
          },
          "metadata": {
            "tags": [],
            "needs_background": "light"
          }
        }
      ]
    },
    {
      "cell_type": "code",
      "metadata": {
        "id": "imUV4ipmOLUX"
      },
      "source": [
        ""
      ],
      "execution_count": null,
      "outputs": []
    }
  ]
}